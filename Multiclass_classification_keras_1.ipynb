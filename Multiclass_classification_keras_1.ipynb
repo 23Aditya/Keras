{
  "cells": [
    {
      "cell_type": "markdown",
      "metadata": {
        "id": "view-in-github",
        "colab_type": "text"
      },
      "source": [
        "<a href=\"https://colab.research.google.com/github/23Aditya/Keras/blob/main/Multiclass_classification_keras_1.ipynb\" target=\"_parent\"><img src=\"https://colab.research.google.com/assets/colab-badge.svg\" alt=\"Open In Colab\"/></a>"
      ]
    },
    {
      "cell_type": "code",
      "execution_count": null,
      "metadata": {
        "id": "gjybF1sGITYe"
      },
      "outputs": [],
      "source": [
        "from keras.preprocessing.image import ImageDataGenerator"
      ]
    },
    {
      "cell_type": "code",
      "execution_count": null,
      "metadata": {
        "id": "supm3ITzITYo"
      },
      "outputs": [],
      "source": [
        "base_dir = \"DevanagariHandwrittenCharacterDataset\""
      ]
    },
    {
      "cell_type": "code",
      "execution_count": null,
      "metadata": {
        "id": "mpXH-0-uITYp"
      },
      "outputs": [],
      "source": [
        "import os\n",
        "import shutil"
      ]
    },
    {
      "cell_type": "code",
      "execution_count": null,
      "metadata": {
        "id": "tpPS8kHoITYr"
      },
      "outputs": [],
      "source": [
        "class_labels = os.listdir(os.path.join(base_dir,\"Train\"))"
      ]
    },
    {
      "cell_type": "code",
      "execution_count": null,
      "metadata": {
        "id": "bDMgIZuIITYt"
      },
      "outputs": [],
      "source": [
        "def create_validation_dir():\n",
        "\n",
        "  cv_dir = os.path.join(base_dir,\"cv\")\n",
        "  os.mkdir(cv_dir)\n",
        "  train_dir = os.path.join(base_dir,\"Train\")\n",
        "\n",
        "  for class_label in class_labels:\n",
        "    class_label_dir = os.path.join(cv_dir,class_label)\n",
        "    os.mkdir(class_label_dir)  # os.mkdir = use to create folder,mkdir lgane ke bad hi filder create hoga\n",
        "\n",
        "  for class_label in class_labels:\n",
        "    class_label_train_dir = os.path.join(train_dir,class_label) \n",
        "    class_label_cv_dir = os.path.join(cv_dir,class_label)\n",
        "    cv_class_images = os.listdir(class_label_train_dir)[0:int(0.2*1700)]\n",
        "    \n",
        "    for img in cv_class_images:\n",
        "      src = os.path.join(class_label_train_dir,img)\n",
        "      dst = os.path.join(class_label_cv_dir,img)\n",
        "      shutil.move(src,dst)"
      ]
    },
    {
      "cell_type": "code",
      "execution_count": null,
      "metadata": {
        "id": "mvPTv5FgITYv",
        "outputId": "68fb5c2f-c0f2-40a1-c69c-a762e1780de1"
      },
      "outputs": [
        {
          "data": {
            "text/plain": [
              "340"
            ]
          },
          "execution_count": 7,
          "metadata": {},
          "output_type": "execute_result"
        }
      ],
      "source": [
        "len(os.listdir(\"DevanagariHandwrittenCharacterDataset/cv/character_10_yna\"))"
      ]
    },
    {
      "cell_type": "code",
      "execution_count": null,
      "metadata": {
        "id": "899553W6ITYy"
      },
      "outputs": [],
      "source": [
        "# Data Generator\n",
        "training_datagen = ImageDataGenerator()\n",
        "testing_datagen = ImageDataGenerator()\n",
        "cv_datagen = ImageDataGenerator() #validation data generator"
      ]
    },
    {
      "cell_type": "code",
      "execution_count": null,
      "metadata": {
        "id": "ZsatXvMrITY1",
        "outputId": "230842d5-3d2e-4426-ca35-e94a374f2b03"
      },
      "outputs": [
        {
          "name": "stdout",
          "output_type": "stream",
          "text": [
            "Found 62560 images belonging to 46 classes.\n"
          ]
        }
      ],
      "source": [
        "train_generator = training_datagen.flow_from_directory(\"DevanagariHandwrittenCharacterDataset/Train\",\n",
        "                                                       target_size=(32,32),color_mode=\"grayscale\",batch_size=50)"
      ]
    },
    {
      "cell_type": "code",
      "execution_count": null,
      "metadata": {
        "id": "m3la9wEiITY3",
        "outputId": "b483c69c-ec6b-4bb2-e2d8-11787709c41d"
      },
      "outputs": [
        {
          "name": "stdout",
          "output_type": "stream",
          "text": [
            "Found 15640 images belonging to 46 classes.\n"
          ]
        }
      ],
      "source": [
        "validation_generator = cv_datagen.flow_from_directory(\"DevanagariHandwrittenCharacterDataset/cv\",\n",
        "                                                      target_size=(32,32),color_mode=\"grayscale\",batch_size=15640)"
      ]
    },
    {
      "cell_type": "code",
      "execution_count": null,
      "metadata": {
        "id": "VwgSnKjSITY6",
        "outputId": "7e781664-df45-4264-d5ac-a74409baca33"
      },
      "outputs": [
        {
          "name": "stdout",
          "output_type": "stream",
          "text": [
            "Found 13800 images belonging to 46 classes.\n"
          ]
        }
      ],
      "source": [
        "test_generator = testing_datagen.flow_from_directory(directory=\"DevanagariHandwrittenCharacterDataset/Test\",\n",
        "                                                     target_size=(32,32),color_mode=\"grayscale\",batch_size=13800)"
      ]
    },
    {
      "cell_type": "code",
      "execution_count": null,
      "metadata": {
        "id": "Gpf29_12ITY8"
      },
      "outputs": [],
      "source": [
        "from tensorflow.python.keras.layers import Input,Dense,Flatten,InputLayer\n",
        "from tensorflow.python.keras.models import Sequential"
      ]
    },
    {
      "cell_type": "code",
      "execution_count": null,
      "metadata": {
        "id": "E9j8r84yITY9"
      },
      "outputs": [],
      "source": [
        "def build_network():\n",
        "\n",
        "  network = Sequential()\n",
        "  network.add(InputLayer(input_shape=(32,32)))\n",
        "  network.add(Flatten())\n",
        "  network.add(Dense(units=128,activation=\"relu\"))\n",
        "  network.add(Dense(units=46,activation=\"softmax\"))\n",
        "\n",
        "  return network"
      ]
    },
    {
      "cell_type": "code",
      "execution_count": null,
      "metadata": {
        "id": "kD8ZD-bfITY-"
      },
      "outputs": [],
      "source": [
        "network = build_network()"
      ]
    },
    {
      "cell_type": "code",
      "execution_count": null,
      "metadata": {
        "id": "iR-XphgfITY_"
      },
      "outputs": [],
      "source": [
        "network.compile(optimizer=\"adam\",loss=\"categorical_crossentropy\",metrics=[\"accuracy\"])"
      ]
    },
    {
      "cell_type": "code",
      "execution_count": null,
      "metadata": {
        "id": "ni78fsXwITZB",
        "outputId": "cf569bbc-c9c2-49a2-e8e9-f4c9b0f97b73"
      },
      "outputs": [
        {
          "name": "stderr",
          "output_type": "stream",
          "text": [
            "C:\\Users\\uic19\\anaconda3\\lib\\site-packages\\tensorflow\\python\\keras\\engine\\training.py:1940: UserWarning: `Model.fit_generator` is deprecated and will be removed in a future version. Please use `Model.fit`, which supports generators.\n",
            "  warnings.warn('`Model.fit_generator` is deprecated and '\n"
          ]
        },
        {
          "name": "stdout",
          "output_type": "stream",
          "text": [
            "Epoch 1/2\n",
            "WARNING:tensorflow:Model was constructed with shape (None, 32, 32) for input KerasTensor(type_spec=TensorSpec(shape=(None, 32, 32), dtype=tf.float32, name='input_1'), name='input_1', description=\"created by layer 'input_1'\"), but it was called on an input with incompatible shape (None, None, None, None).\n",
            "WARNING:tensorflow:Model was constructed with shape (None, 32, 32) for input KerasTensor(type_spec=TensorSpec(shape=(None, 32, 32), dtype=tf.float32, name='input_1'), name='input_1', description=\"created by layer 'input_1'\"), but it was called on an input with incompatible shape (None, None, None, None).\n",
            "1252/1252 [==============================] - ETA: 0s - loss: 5.5333 - accuracy: 0.0429WARNING:tensorflow:Model was constructed with shape (None, 32, 32) for input KerasTensor(type_spec=TensorSpec(shape=(None, 32, 32), dtype=tf.float32, name='input_1'), name='input_1', description=\"created by layer 'input_1'\"), but it was called on an input with incompatible shape (None, None, None, None).\n",
            "1252/1252 [==============================] - 1421s 1s/step - loss: 5.5333 - accuracy: 0.0429 - val_loss: 3.7623 - val_accuracy: 0.0691\n",
            "Epoch 2/2\n",
            "1252/1252 [==============================] - 69s 55ms/step - loss: 3.5946 - accuracy: 0.0883 - val_loss: 3.6213 - val_accuracy: 0.0947\n"
          ]
        }
      ],
      "source": [
        "performance_history = network.fit_generator(generator=train_generator,epochs=2,\n",
        "                                            validation_data=validation_generator)"
      ]
    },
    {
      "cell_type": "code",
      "execution_count": null,
      "metadata": {
        "id": "FUiPJ-2gITZB"
      },
      "outputs": [],
      "source": [
        ""
      ]
    }
  ],
  "metadata": {
    "kernelspec": {
      "display_name": "Python 3",
      "language": "python",
      "name": "python3"
    },
    "language_info": {
      "codemirror_mode": {
        "name": "ipython",
        "version": 3
      },
      "file_extension": ".py",
      "mimetype": "text/x-python",
      "name": "python",
      "nbconvert_exporter": "python",
      "pygments_lexer": "ipython3",
      "version": "3.8.5"
    },
    "colab": {
      "name": "Multiclass_classification_keras.ipynb",
      "provenance": [],
      "include_colab_link": true
    }
  },
  "nbformat": 4,
  "nbformat_minor": 0
}